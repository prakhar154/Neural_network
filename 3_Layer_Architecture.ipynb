{
  "nbformat": 4,
  "nbformat_minor": 0,
  "metadata": {
    "colab": {
      "name": "3-Layer-Architecture",
      "version": "0.3.2",
      "provenance": [],
      "collapsed_sections": []
    },
    "kernelspec": {
      "name": "python3",
      "display_name": "Python 3"
    }
  },
  "cells": [
    {
      "cell_type": "code",
      "metadata": {
        "id": "4_uf8GzgJkiN",
        "colab_type": "code",
        "colab": {}
      },
      "source": [
        "# Model parameters\n",
        "input_size = 3 #number of features\n",
        "layers = [4, 3] #number of neurons in each layer\n",
        "output_size = 2"
      ],
      "execution_count": 0,
      "outputs": []
    },
    {
      "cell_type": "code",
      "metadata": {
        "id": "a0wQ5K5BMeXK",
        "colab_type": "code",
        "colab": {}
      },
      "source": [
        "class NeuralNetworks:\n",
        "  \n",
        "  def _init_(self, input_size, layers, ouput_size):\n",
        "    \n",
        "    np.random.seed(0)\n",
        "    \n",
        "    model = {}\n",
        "    \n",
        "    # First layer\n",
        "    model['W1'] = np.random.randn(input_size, layers[0])\n",
        "    model['b1'] = np.zeros(1, layers[0])\n",
        "    \n",
        "    # Second layer\n",
        "    model['W2'] = np.random.randn(layers[0], layers[1])\n",
        "    model['b2'] = np.zeros(1, layers[1])\n",
        "    \n",
        "    # Third layer/Output layer\n",
        "    model['W3'] = np.random.randn(layers[1], output_size)\n",
        "    \n",
        "    self.model = model"
      ],
      "execution_count": 0,
      "outputs": []
    },
    {
      "cell_type": "code",
      "metadata": {
        "id": "dWRdl2pHOmYc",
        "colab_type": "code",
        "colab": {}
      },
      "source": [
        ""
      ],
      "execution_count": 0,
      "outputs": []
    }
  ]
}