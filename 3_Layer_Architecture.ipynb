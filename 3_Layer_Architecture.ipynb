{
 "cells": [
  {
   "cell_type": "code",
   "execution_count": 1,
   "metadata": {},
   "outputs": [],
   "source": [
    "import numpy as np"
   ]
  },
  {
   "cell_type": "code",
   "execution_count": 2,
   "metadata": {
    "colab": {},
    "colab_type": "code",
    "id": "4_uf8GzgJkiN"
   },
   "outputs": [],
   "source": [
    "# Model parameters\n",
    "input_size = 3 #number of features\n",
    "layers = [4, 3] #number of neurons in each layer\n",
    "output_size = 2"
   ]
  },
  {
   "cell_type": "code",
   "execution_count": 3,
   "metadata": {},
   "outputs": [],
   "source": [
    "def softmax(z):\n",
    "    \n",
    "    e_pa = np.exp(z)\n",
    "    ans = e_pa/np.sum(e_pa, axis=1, keepdims=True)\n",
    "    return ans"
   ]
  },
  {
   "cell_type": "code",
   "execution_count": 25,
   "metadata": {
    "colab": {},
    "colab_type": "code",
    "id": "a0wQ5K5BMeXK"
   },
   "outputs": [],
   "source": [
    "class NeuralNetworks:\n",
    "  \n",
    "    def _init_(self, input_size, layers, ouput_size):\n",
    "        \n",
    "        np.random.seed(0)\n",
    "    \n",
    "        model = {}\n",
    "    \n",
    "        # First layer\n",
    "        model['W1'] = np.random.randn(input_size, layers[0])\n",
    "        model['b1'] = np.zeros(1, layers[0])\n",
    "    \n",
    "        # Second layer\n",
    "        model['W2'] = np.random.randn(layers[0], layers[1])\n",
    "        model['b2'] = np.zeros(1, layers[1])\n",
    "    \n",
    "        # Third layer/Output layer\n",
    "        model['W3'] = np.random.randn(layers[1], output_size)\n",
    "    \n",
    "        self.model = model\n",
    "    \n",
    "    def forward(self, x):\n",
    "        \n",
    "        W1, W2, W3 = self.model['W1'], self.model['W2'], self.model['W3']\n",
    "        b1, b2, b3 = self.model['b1'], self.model['b2'], self.model['b3']\n",
    "        \n",
    "        z1 = np.dot(x, W1) + b1\n",
    "        a1 = np.tanh(z1)\n",
    "        \n",
    "        z2 = np.dot(a1, W2) + b2\n",
    "        a2 = np.tanh(z2)\n",
    "        \n",
    "        z3 = np.dot(a2, W3) + b3\n",
    "        \n",
    "        y_ = softmax(z3)\n",
    "        \n",
    "        self.activation_values = (a1, a2, y_)\n",
    "        \n",
    "        return y_\n",
    "        \n",
    "    def backward(self, x, y, learning_rate=0.0001):\n",
    "        \n",
    "        W1, W2, W3 = self.model['W1'], self.model['W2'], self.model['W3']\n",
    "        b1, b2, b3 = self.model['b1'], self.model['b2'], self.model['b3']\n",
    "        m = x.shape[0]\n",
    "        \n",
    "        a1, a2, y_ = self.activation_values\n",
    "        \n",
    "        delta3 = y_ - y\n",
    "        dw3 = np.dot(a2.T, delta3)\n",
    "        db3 = np.sum(delta3, axis=0)/float(m)\n",
    "        xcc\n",
    "        delta2 = (1 - np.square(a2))*np.dot(delta3, W3.T)\n",
    "        dw2 = np.dot(a1.T, delta2)\n",
    "        db2 = np.sum(delta2, axis=0)/float(m)\n",
    "        \n",
    "        delta1 = (1 - np.square(a1))*np.dot(delta2, W2.T)\n",
    "        dw1 = np.dot(x.T, delta1)\n",
    "        db1 = np.sum(delta1, axis=0)/float(m)\n",
    "        \n",
    "        self.model['W1'] -= learning_rate*dw1\n",
    "        self.model['b1'] -= learning_rate*db1\n",
    "        \n",
    "        self.model['W2'] -= learning_rate*dw2\n",
    "        self.model['b2'] -= learning_rate*db2\n",
    "        \n",
    "        self.model['W3'] -= learning_rate*dw3\n",
    "        self.model['b3'] -= learning_rate*db3\n",
    "        \n",
    "    def predict(self, x):\n",
    "        y_out = forward(x)\n",
    "        return np.argmax(y_out, axis=1)\n",
    "    \n",
    "    def summary(self):\n",
    "        \n",
    "        W1, W2, W3 = self.model['W1'], self.model['W2'], self.model['W3']\n",
    "        a1, a2, a3 = self.activation_values\n",
    "        \n",
    "        print(\"W1\", W1.shape)\n",
    "        print(\"A1\", a1.shape)\n",
    "\n",
    "        print(\"W2\", W2.shape)\n",
    "        print(\"A2\", a2.shape)\n",
    "        \n",
    "        print(\"W3\", W3.shape)\n",
    "        print(\"A3\", a3.shape)\n",
    "       \n",
    "    "
   ]
  },
  {
   "cell_type": "code",
   "execution_count": 26,
   "metadata": {
    "colab": {},
    "colab_type": "code",
    "id": "dWRdl2pHOmYc"
   },
   "outputs": [],
   "source": [
    "def loss(Y_oht, p):\n",
    "    return -np.mean(Y_oht*np.log(p))\n",
    "\n",
    "def one_hot(y, depth):\n",
    "    \n",
    "    m = y.shape[0]\n",
    "    y_oht = np.zeros((m ,depth))\n",
    "    y_oht[np.arange[m], y] = 1\n",
    "    return y_oht"
   ]
  },
  {
   "cell_type": "markdown",
   "metadata": {},
   "source": [
    "## Generating data"
   ]
  },
  {
   "cell_type": "code",
   "execution_count": 27,
   "metadata": {},
   "outputs": [],
   "source": [
    "from sklearn.datasets import make_circles\n",
    "import matplotlib.pyplot as plt"
   ]
  },
  {
   "cell_type": "code",
   "execution_count": 28,
   "metadata": {},
   "outputs": [],
   "source": [
    "x, y = make_circles(n_samples=500, shuffle=True, noise=.2, random_state=1, factor=.2)"
   ]
  },
  {
   "cell_type": "code",
   "execution_count": 29,
   "metadata": {},
   "outputs": [
    {
     "name": "stdout",
     "output_type": "stream",
     "text": [
      "(500, 2)\n",
      "(500,)\n"
     ]
    }
   ],
   "source": [
    "print(x.shape)\n",
    "print(y.shape)"
   ]
  },
  {
   "cell_type": "markdown",
   "metadata": {},
   "source": [
    "## Training model"
   ]
  },
  {
   "cell_type": "code",
   "execution_count": 31,
   "metadata": {},
   "outputs": [
    {
     "ename": "TypeError",
     "evalue": "object() takes no parameters",
     "output_type": "error",
     "traceback": [
      "\u001b[0;31m---------------------------------------------------------------------------\u001b[0m",
      "\u001b[0;31mTypeError\u001b[0m                                 Traceback (most recent call last)",
      "\u001b[0;32m<ipython-input-31-df9b8539c43c>\u001b[0m in \u001b[0;36m<module>\u001b[0;34m\u001b[0m\n\u001b[0;32m----> 1\u001b[0;31m \u001b[0mmodel\u001b[0m \u001b[0;34m=\u001b[0m \u001b[0mNeuralNetworks\u001b[0m\u001b[0;34m(\u001b[0m\u001b[0minput_size\u001b[0m\u001b[0;34m=\u001b[0m\u001b[0;36m2\u001b[0m\u001b[0;34m,\u001b[0m \u001b[0mlayers\u001b[0m\u001b[0;34m=\u001b[0m\u001b[0;34m[\u001b[0m\u001b[0;36m10\u001b[0m\u001b[0;34m,\u001b[0m \u001b[0;36m5\u001b[0m\u001b[0;34m]\u001b[0m\u001b[0;34m,\u001b[0m \u001b[0moutput_size\u001b[0m\u001b[0;34m=\u001b[0m\u001b[0;36m2\u001b[0m\u001b[0;34m)\u001b[0m\u001b[0;34m\u001b[0m\u001b[0;34m\u001b[0m\u001b[0m\n\u001b[0m",
      "\u001b[0;31mTypeError\u001b[0m: object() takes no parameters"
     ]
    }
   ],
   "source": [
    "model = NeuralNetworks(input_size=2, layers=[10, 5], output_size=2)"
   ]
  },
  {
   "cell_type": "code",
   "execution_count": null,
   "metadata": {},
   "outputs": [],
   "source": []
  }
 ],
 "metadata": {
  "colab": {
   "collapsed_sections": [],
   "name": "3-Layer-Architecture",
   "provenance": [],
   "version": "0.3.2"
  },
  "kernelspec": {
   "display_name": "Python 3",
   "language": "python",
   "name": "python3"
  },
  "language_info": {
   "codemirror_mode": {
    "name": "ipython",
    "version": 3
   },
   "file_extension": ".py",
   "mimetype": "text/x-python",
   "name": "python",
   "nbconvert_exporter": "python",
   "pygments_lexer": "ipython3",
   "version": "3.6.8"
  }
 },
 "nbformat": 4,
 "nbformat_minor": 1
}
