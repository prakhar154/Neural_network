{
 "cells": [
  {
   "cell_type": "code",
   "execution_count": 1,
   "metadata": {},
   "outputs": [],
   "source": [
    "import numpy as np"
   ]
  },
  {
   "cell_type": "code",
   "execution_count": 2,
   "metadata": {
    "colab": {},
    "colab_type": "code",
    "id": "4_uf8GzgJkiN"
   },
   "outputs": [],
   "source": [
    "# Model parameters\n",
    "input_size = 3 #number of features\n",
    "layers = [4, 3] #number of neurons in each layer\n",
    "output_size = 2"
   ]
  },
  {
   "cell_type": "code",
   "execution_count": 6,
   "metadata": {},
   "outputs": [],
   "source": [
    "def softmax(z):\n",
    "    \n",
    "    e_pa = np.exp(z)\n",
    "    ans = e_pa/np.sum(e_pa, axis=1, keepdims=True)\n",
    "    return ans"
   ]
  },
  {
   "cell_type": "code",
   "execution_count": 7,
   "metadata": {
    "colab": {},
    "colab_type": "code",
    "id": "a0wQ5K5BMeXK"
   },
   "outputs": [],
   "source": [
    "class NeuralNetworks:\n",
    "  \n",
    "  def _init_(self, input_size, layers, ouput_size):\n",
    "    \n",
    "    np.random.seed(0)\n",
    "    \n",
    "    model = {}\n",
    "    \n",
    "    # First layer\n",
    "    model['W1'] = np.random.randn(input_size, layers[0])\n",
    "    model['b1'] = np.zeros(1, layers[0])\n",
    "    \n",
    "    # Second layer\n",
    "    model['W2'] = np.random.randn(layers[0], layers[1])\n",
    "    model['b2'] = np.zeros(1, layers[1])\n",
    "    \n",
    "    # Third layer/Output layer\n",
    "    model['W3'] = np.random.randn(layers[1], output_size)\n",
    "    \n",
    "    self.model = model\n",
    "    \n",
    "    def forward(self, x):\n",
    "        \n",
    "        W1, W2, W3 = self(model['W1']), self(model['W2']), self(model['W3'])\n",
    "        b1, b2, b3 = self(model['b1']), self(model['b2']), self(model['b3'])\n",
    "        \n",
    "        z1 = np.dot(x, W1) + b1\n",
    "        a1 = np.tanh(z1)\n",
    "        \n",
    "        z2 = np.dot(a1, W2) + b2\n",
    "        a2 = np.tanh(z2)\n",
    "        \n",
    "        z3 = np.dot(a2, W3) + b3\n",
    "        \n",
    "        y_ = softmax(z3)"
   ]
  },
  {
   "cell_type": "code",
   "execution_count": null,
   "metadata": {
    "colab": {},
    "colab_type": "code",
    "id": "dWRdl2pHOmYc"
   },
   "outputs": [],
   "source": []
  }
 ],
 "metadata": {
  "colab": {
   "collapsed_sections": [],
   "name": "3-Layer-Architecture",
   "provenance": [],
   "version": "0.3.2"
  },
  "kernelspec": {
   "display_name": "Python 3",
   "language": "python",
   "name": "python3"
  },
  "language_info": {
   "codemirror_mode": {
    "name": "ipython",
    "version": 3
   },
   "file_extension": ".py",
   "mimetype": "text/x-python",
   "name": "python",
   "nbconvert_exporter": "python",
   "pygments_lexer": "ipython3",
   "version": "3.7.3"
  }
 },
 "nbformat": 4,
 "nbformat_minor": 1
}
