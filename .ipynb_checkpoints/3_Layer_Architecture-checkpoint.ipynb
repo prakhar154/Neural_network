{
 "cells": [
  {
   "cell_type": "code",
   "execution_count": 0,
   "metadata": {
    "colab": {},
    "colab_type": "code",
    "id": "4_uf8GzgJkiN"
   },
   "outputs": [],
   "source": [
    "# Model parameters\n",
    "input_size = 3 #number of features\n",
    "layers = [4, 3] #number of neurons in each layer\n",
    "output_size = 2"
   ]
  },
  {
   "cell_type": "code",
   "execution_count": 0,
   "metadata": {
    "colab": {},
    "colab_type": "code",
    "id": "a0wQ5K5BMeXK"
   },
   "outputs": [],
   "source": [
    "class NeuralNetworks:\n",
    "  \n",
    "  def _init_(self, input_size, layers, ouput_size):\n",
    "    \n",
    "    np.random.seed(0)\n",
    "    \n",
    "    model = {}\n",
    "    \n",
    "    # First layer\n",
    "    model['W1'] = np.random.randn(input_size, layers[0])\n",
    "    model['b1'] = np.zeros(1, layers[0])\n",
    "    \n",
    "    # Second layer\n",
    "    model['W2'] = np.random.randn(layers[0], layers[1])\n",
    "    model['b2'] = np.zeros(1, layers[1])\n",
    "    \n",
    "    # Third layer/Output layer\n",
    "    model['W3'] = np.random.randn(layers[1], output_size)\n",
    "    \n",
    "    self.model = model"
   ]
  },
  {
   "cell_type": "code",
   "execution_count": 0,
   "metadata": {
    "colab": {},
    "colab_type": "code",
    "id": "dWRdl2pHOmYc"
   },
   "outputs": [],
   "source": []
  }
 ],
 "metadata": {
  "colab": {
   "collapsed_sections": [],
   "name": "3-Layer-Architecture",
   "provenance": [],
   "version": "0.3.2"
  },
  "kernelspec": {
   "display_name": "Python 3",
   "language": "python",
   "name": "python3"
  },
  "language_info": {
   "codemirror_mode": {
    "name": "ipython",
    "version": 3
   },
   "file_extension": ".py",
   "mimetype": "text/x-python",
   "name": "python",
   "nbconvert_exporter": "python",
   "pygments_lexer": "ipython3",
   "version": "3.7.3"
  }
 },
 "nbformat": 4,
 "nbformat_minor": 1
}
